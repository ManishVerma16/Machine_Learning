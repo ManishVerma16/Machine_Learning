{
 "metadata": {
  "language_info": {
   "codemirror_mode": {
    "name": "ipython",
    "version": 3
   },
   "file_extension": ".py",
   "mimetype": "text/x-python",
   "name": "python",
   "nbconvert_exporter": "python",
   "pygments_lexer": "ipython3",
   "version": "3.9.2"
  },
  "orig_nbformat": 2,
  "kernelspec": {
   "name": "python392jvsc74a57bd098e069c9522a54b576ddb633a24b0331ae23ec93afa933a429a0815446c4c8bd",
   "display_name": "Python 3.9.2 64-bit"
  },
  "metadata": {
   "interpreter": {
    "hash": "98e069c9522a54b576ddb633a24b0331ae23ec93afa933a429a0815446c4c8bd"
   }
  }
 },
 "nbformat": 4,
 "nbformat_minor": 2,
 "cells": [
  {
   "cell_type": "code",
   "execution_count": 1,
   "metadata": {},
   "outputs": [],
   "source": [
    "from autoscraper import AutoScraper"
   ]
  },
  {
   "cell_type": "code",
   "execution_count": 2,
   "metadata": {},
   "outputs": [
    {
     "output_type": "stream",
     "name": "stdout",
     "text": [
      "['3', '6', '1', '85', '2', '359', '26', '8', '5', '7', '49', '37', '12', '50', '16', '14', '4', '10', '53', 'Autoscrapper', 'Types-Of-Trnasformation', 'Pywebheroku', 'Car-Price-Prediction', 'Custom-object-Detection', 'Gradio', 'EVALML', 'Machine-Learning-in-90-days', 'Weather-Chatbot-Using-Luis', 'Shapash-', 'Car-PricePrediction', 'BMI-Calculator', 'PyWebIO', 'Audio-Classification', 'Malaria-Detection', 'Deep-Learning-Car-Brand', 'WaferFaultDetection', 'Phising-Classifier', 'texthero', 'Kubernet-Dockers', 'Dockers', 'Google-Dialogflow-chatbots', 'Google-Cloud-Platform-Deployment', 'AzureDeployment', 'Test', 'Image-Webscrapper', 'AQI-Deployment', 'NLP-Deployment-Heroku', 'Heroku-Demo', 'Deployment-Heroku']\n"
     ]
    }
   ],
   "source": [
    "url = 'https://github.com/krishnaik06?tab=repositories'\n",
    "\n",
    "wanted_list = ['85', 'Car-Price-Prediction']\n",
    "\n",
    "scraper = AutoScraper()\n",
    "result = scraper.build(url, wanted_list)\n",
    "print(result)"
   ]
  },
  {
   "cell_type": "code",
   "execution_count": 3,
   "metadata": {},
   "outputs": [
    {
     "output_type": "execute_result",
     "data": {
      "text/plain": [
       "{'rule_ty4y': ['2',\n",
       "  '1',\n",
       "  '1',\n",
       "  '11,635',\n",
       "  '45,619',\n",
       "  '1,029',\n",
       "  '490',\n",
       "  '547',\n",
       "  '12,840'],\n",
       " 'rule_5zji': ['Flask_Learning',\n",
       "  'Django_Learning',\n",
       "  'Python_Projects',\n",
       "  'Rust_Learning',\n",
       "  'python_concepts',\n",
       "  'Data_Structures_Learning',\n",
       "  'Machine_Learning',\n",
       "  'play_ground',\n",
       "  'ShoppingApp',\n",
       "  'MealsApp',\n",
       "  'ManishVerma16',\n",
       "  'Task4_LinuxApp_StreamBuilder',\n",
       "  'Task3_LinuxApp',\n",
       "  'Task1_MusicApp',\n",
       "  'Task5_Chat_App',\n",
       "  'Task6_Animation_App',\n",
       "  'TodoList_App',\n",
       "  'AudioPlayer',\n",
       "  'MotoHeal',\n",
       "  'CodeChefGBUChapter\\n\\n\\n          Forked from vicasindia/CodeChefGBUChapter',\n",
       "  'minor_project_EZYCODE\\n\\n\\n          Forked from kavinjeveriya/minor_project_EZYCODE',\n",
       "  'minor_project\\n\\n\\n          Forked from kavinjeveriya/minor_project',\n",
       "  'computer-science\\n\\n\\n          Forked from ossu/computer-science',\n",
       "  'coding-interview-university\\n\\n\\n          Forked from jwasham/coding-interview-university',\n",
       "  '50projects50days\\n\\n\\n          Forked from bradtraversy/50projects50days',\n",
       "  'BMI_Calculator_App',\n",
       "  'ai-fundamentals\\n\\n\\n          Forked from MicrosoftDocs/ai-fundamentals',\n",
       "  'Cognitive-Samples-IntelligentKiosk\\n\\n\\n          Forked from microsoft/Cognitive-Samples-IntelligentKiosk',\n",
       "  'gcp_workshop_task',\n",
       "  'PythonDataScienceHandbook\\n\\n\\n          Forked from jakevdp/PythonDataScienceHandbook']}"
      ]
     },
     "metadata": {},
     "execution_count": 3
    }
   ],
   "source": [
    "scraper.get_result_similar('https://github.com/ManishVerma16?tab=repositories', grouped=True)"
   ]
  },
  {
   "cell_type": "code",
   "execution_count": 4,
   "metadata": {},
   "outputs": [],
   "source": [
    "scraper.set_rule_aliases({'rule_ty4y': 'Stars', 'rule_5zji': 'Title'})\n",
    "scraper.keep_rules(['rule_ty4y', 'rule_5zji'])\n",
    "scraper.save('github-repository-search')"
   ]
  },
  {
   "cell_type": "code",
   "execution_count": 5,
   "metadata": {},
   "outputs": [],
   "source": [
    "result = scraper.get_result_similar('https://github.com/ManishVerma16?tab=repositories', group_by_alias=True)"
   ]
  },
  {
   "cell_type": "code",
   "execution_count": 6,
   "metadata": {},
   "outputs": [
    {
     "output_type": "execute_result",
     "data": {
      "text/plain": [
       "['Flask_Learning',\n",
       " 'Django_Learning',\n",
       " 'Python_Projects',\n",
       " 'Rust_Learning',\n",
       " 'python_concepts',\n",
       " 'Data_Structures_Learning',\n",
       " 'Machine_Learning',\n",
       " 'play_ground',\n",
       " 'ShoppingApp',\n",
       " 'MealsApp',\n",
       " 'ManishVerma16',\n",
       " 'Task4_LinuxApp_StreamBuilder',\n",
       " 'Task3_LinuxApp',\n",
       " 'Task1_MusicApp',\n",
       " 'Task5_Chat_App',\n",
       " 'Task6_Animation_App',\n",
       " 'TodoList_App',\n",
       " 'AudioPlayer',\n",
       " 'MotoHeal',\n",
       " 'CodeChefGBUChapter\\n\\n\\n          Forked from vicasindia/CodeChefGBUChapter',\n",
       " 'minor_project_EZYCODE\\n\\n\\n          Forked from kavinjeveriya/minor_project_EZYCODE',\n",
       " 'minor_project\\n\\n\\n          Forked from kavinjeveriya/minor_project',\n",
       " 'computer-science\\n\\n\\n          Forked from ossu/computer-science',\n",
       " 'coding-interview-university\\n\\n\\n          Forked from jwasham/coding-interview-university',\n",
       " '50projects50days\\n\\n\\n          Forked from bradtraversy/50projects50days',\n",
       " 'BMI_Calculator_App',\n",
       " 'ai-fundamentals\\n\\n\\n          Forked from MicrosoftDocs/ai-fundamentals',\n",
       " 'Cognitive-Samples-IntelligentKiosk\\n\\n\\n          Forked from microsoft/Cognitive-Samples-IntelligentKiosk',\n",
       " 'gcp_workshop_task',\n",
       " 'PythonDataScienceHandbook\\n\\n\\n          Forked from jakevdp/PythonDataScienceHandbook']"
      ]
     },
     "metadata": {},
     "execution_count": 6
    }
   ],
   "source": [
    "result['Title']"
   ]
  },
  {
   "cell_type": "code",
   "execution_count": null,
   "metadata": {},
   "outputs": [],
   "source": []
  }
 ]
}